{
 "cells": [
  {
   "cell_type": "markdown",
   "metadata": {},
   "source": [
    "# The Game of Life\n",
    "\n",
    "In this notebook, we want to simulate the Game of Life\n",
    "\n",
    "## A few informations about JuPyteR\n",
    "\n",
    "### You can use maths in the LaTeX way\n",
    "\n",
    "Math in text $\\alpha = 5$ is possible as well as standalone:\n",
    "\n",
    "$$\n",
    "\\Psi = \\int_{0}^{\\infty} \\omega(t)dt\n",
    "$$\n",
    "\n",
    "\n",
    "### You can use many environments\n",
    "\n",
    "* list\n",
    "* list\n",
    "\n",
    "\n",
    "1. numbered list\n",
    "2. tada\n",
    "\n",
    "\n",
    "### Stuff from Internet\n",
    "\n",
    "![](https://upload.wikimedia.org/wikipedia/commons/d/d8/Game_of_life_U.gif)\n"
   ]
  },
  {
   "cell_type": "markdown",
   "metadata": {},
   "source": [
    "## Game of Life\n",
    "\n",
    "Documentation about GoL is available [here on wikipedia](https://en.wikipedia.org/wiki/Conway%27s_Game_of_Life)\n",
    "\n",
    "The rule of the game is:\n",
    "\n",
    "* Cells can be either dead (0) or alive (1)\n",
    "* At every step, there is are two rules:\n",
    "    * A birth rule: a dead cell becomes alive if it has 3 living neigbors\n",
    "    * A survival rule! a living cell stays alive if it has 2 or 3 living neighbors\n",
    "    \n",
    "The rule can be summarized as `B3S23`    "
   ]
  },
  {
   "cell_type": "code",
   "execution_count": 88,
   "metadata": {},
   "outputs": [],
   "source": [
    "# Matplotlib \"notebook\" backend is an interactive backend for notebooks\n",
    "%matplotlib notebook\n",
    "import numpy as np\n",
    "import matplotlib.pyplot as plt\n",
    "import numba"
   ]
  },
  {
   "cell_type": "markdown",
   "metadata": {},
   "source": [
    "## Let's code the GoL\n",
    "\n",
    "### First, we need to compute the Moore neighbors\n",
    "\n",
    "![](https://upload.wikimedia.org/wikipedia/commons/4/4d/Moore_neighborhood_with_cardinal_directions.svg)"
   ]
  },
  {
   "cell_type": "code",
   "execution_count": 20,
   "metadata": {},
   "outputs": [
    {
     "data": {
      "text/plain": [
       "array([[1, 1, 0, 1, 0, 1, 0, 1, 1, 0],\n",
       "       [0, 1, 0, 0, 1, 1, 0, 1, 0, 0],\n",
       "       [0, 1, 0, 0, 0, 1, 1, 1, 1, 1],\n",
       "       [0, 0, 1, 0, 0, 0, 1, 0, 1, 1],\n",
       "       [0, 0, 1, 1, 0, 0, 1, 1, 0, 0],\n",
       "       [0, 1, 0, 0, 0, 1, 1, 0, 1, 0],\n",
       "       [0, 1, 0, 1, 0, 0, 0, 0, 0, 0],\n",
       "       [1, 0, 0, 0, 0, 1, 1, 0, 0, 1],\n",
       "       [0, 0, 1, 0, 1, 1, 1, 1, 1, 1],\n",
       "       [0, 1, 0, 1, 1, 1, 0, 0, 0, 1]])"
      ]
     },
     "execution_count": 20,
     "metadata": {},
     "output_type": "execute_result"
    }
   ],
   "source": [
    "# Starting cells\n",
    "cells = np.random.randint(2, size=(10, 10))\n",
    "cells"
   ]
  },
  {
   "cell_type": "code",
   "execution_count": 89,
   "metadata": {
    "scrolled": true
   },
   "outputs": [
    {
     "data": {
      "text/plain": [
       "array([[2, 2, 3, 1, 4, 2, 4, 2, 2, 1],\n",
       "       [4, 3, 4, 2, 4, 4, 7, 5, 6, 3],\n",
       "       [2, 2, 3, 2, 3, 4, 5, 5, 5, 3],\n",
       "       [1, 3, 3, 3, 2, 4, 5, 7, 5, 3],\n",
       "       [1, 3, 3, 2, 2, 4, 4, 5, 4, 3],\n",
       "       [2, 2, 5, 3, 3, 2, 3, 4, 1, 1],\n",
       "       [3, 2, 3, 0, 3, 4, 4, 3, 2, 2],\n",
       "       [1, 3, 3, 3, 4, 4, 4, 4, 4, 2],\n",
       "       [2, 3, 2, 4, 5, 6, 5, 3, 4, 3],\n",
       "       [1, 1, 3, 3, 4, 4, 4, 3, 4, 2]])"
      ]
     },
     "execution_count": 89,
     "metadata": {},
     "output_type": "execute_result"
    }
   ],
   "source": [
    "@numba.jit()\n",
    "def count_neighbors(cells):\n",
    "    \"\"\"\n",
    "    Counts the Moore neighbors of the cell matrix\n",
    "    \n",
    "    Inputs:\n",
    "    * cells: NxM array-like\n",
    "    \n",
    "    Returns:\n",
    "    * neighbors: NxM array-like \n",
    "    \"\"\"\n",
    "    Nr, Nc = cells.shape # Number of rows and columns\n",
    "    neighbors = np.zeros_like(cells) # A matrix with the same shape and datatype as cells\n",
    "    for r in range(Nr): # Loop on row\n",
    "        for c in range(Nc) : # Loop over columns\n",
    "            neighbors[r,c] = cells[max(0,r-1) : min(r+2, Nr), \n",
    "                                   max(0,c-1) : min(c+2, Nc)].sum() - cells[r, c] \n",
    "\n",
    "    return neighbors\n",
    "\n",
    "count_neighbors(cells)"
   ]
  },
  {
   "cell_type": "code",
   "execution_count": 90,
   "metadata": {},
   "outputs": [
    {
     "name": "stdout",
     "output_type": "stream",
     "text": [
      "1.76 ms ± 86.3 µs per loop (mean ± std. dev. of 7 runs, 1000 loops each)\n"
     ]
    }
   ],
   "source": [
    "# Let's have a look at the speed of our function\n",
    "bigcells = np.random.randint(2, size=(200, 200))\n",
    "%timeit count_neighbors(bigcells)"
   ]
  },
  {
   "cell_type": "markdown",
   "metadata": {},
   "source": [
    "## Apply the rule of GoL"
   ]
  },
  {
   "cell_type": "code",
   "execution_count": 97,
   "metadata": {},
   "outputs": [
    {
     "data": {
      "text/plain": [
       "array([[0, 0, 1, 0, 0, 0, 0, 0, 0, 0],\n",
       "       [0, 0, 0, 0, 0, 0, 0, 0, 0, 1],\n",
       "       [0, 0, 1, 0, 1, 0, 0, 0, 0, 0],\n",
       "       [0, 1, 0, 1, 0, 0, 0, 0, 0, 0],\n",
       "       [0, 1, 0, 0, 0, 0, 0, 0, 0, 1],\n",
       "       [0, 0, 0, 1, 1, 0, 0, 0, 0, 0],\n",
       "       [1, 0, 1, 0, 1, 0, 0, 1, 0, 0],\n",
       "       [0, 1, 1, 1, 0, 0, 0, 0, 0, 0],\n",
       "       [0, 1, 0, 0, 0, 0, 0, 0, 0, 0],\n",
       "       [0, 0, 1, 0, 0, 0, 0, 1, 0, 0]])"
      ]
     },
     "execution_count": 97,
     "metadata": {},
     "output_type": "execute_result"
    }
   ],
   "source": [
    "B = [3] # Birth rule\n",
    "S = [2,3] # Survival rule\n",
    "neigh = count_neighbors(cells)\n",
    "( (neigh == 3) & (cells == 0) )*1 # Logical and = &, logical or = | "
   ]
  },
  {
   "cell_type": "code",
   "execution_count": 94,
   "metadata": {},
   "outputs": [
    {
     "data": {
      "text/plain": [
       "True"
      ]
     },
     "execution_count": 94,
     "metadata": {},
     "output_type": "execute_result"
    }
   ],
   "source": [
    "True"
   ]
  },
  {
   "cell_type": "code",
   "execution_count": null,
   "metadata": {},
   "outputs": [],
   "source": []
  }
 ],
 "metadata": {
  "kernelspec": {
   "display_name": "Python 3",
   "language": "python",
   "name": "python3"
  },
  "language_info": {
   "codemirror_mode": {
    "name": "ipython",
    "version": 3
   },
   "file_extension": ".py",
   "mimetype": "text/x-python",
   "name": "python",
   "nbconvert_exporter": "python",
   "pygments_lexer": "ipython3",
   "version": "3.7.7"
  }
 },
 "nbformat": 4,
 "nbformat_minor": 4
}
